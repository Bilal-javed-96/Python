{
 "cells": [
  {
   "cell_type": "code",
   "execution_count": 3,
   "metadata": {},
   "outputs": [
    {
     "name": "stdout",
     "output_type": "stream",
     "text": [
      "Twinkle, Twinkle, little star,\n",
      "       How I wonder what you are!\n",
      "              Up above the world so high,\n",
      "              Like a diamond in the sky.\n",
      "Twinkle, Twinkle, little star,\n",
      "       How I wonder what you are!\n"
     ]
    }
   ],
   "source": [
    "line_1 = \"Twinkle, Twinkle, little star,\"\n",
    "line_2 = \"How I wonder what you are!\"\n",
    "line_3 = \"Up above the world so high,\"\n",
    "line_4 = \"Like a diamond in the sky.\"\n",
    "space = \"       \"\n",
    "print (line_1)\n",
    "print (space + line_2)\n",
    "print (space + space + line_3)\n",
    "print (space + space + line_4)\n",
    "print (line_1)\n",
    "print (space + line_2)"
   ]
  },
  {
   "cell_type": "code",
   "execution_count": null,
   "metadata": {},
   "outputs": [],
   "source": []
  }
 ],
 "metadata": {
  "kernelspec": {
   "display_name": "Python 3",
   "language": "python",
   "name": "python3"
  },
  "language_info": {
   "codemirror_mode": {
    "name": "ipython",
    "version": 3
   },
   "file_extension": ".py",
   "mimetype": "text/x-python",
   "name": "python",
   "nbconvert_exporter": "python",
   "pygments_lexer": "ipython3",
   "version": "3.7.4"
  }
 },
 "nbformat": 4,
 "nbformat_minor": 4
}
