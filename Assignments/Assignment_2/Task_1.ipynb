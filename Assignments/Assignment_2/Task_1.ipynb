{
 "cells": [
  {
   "cell_type": "code",
   "execution_count": 12,
   "metadata": {},
   "outputs": [
    {
     "name": "stdout",
     "output_type": "stream",
     "text": [
      "Enter your Marks 0f the subjects out of 100 :\n"
     ]
    },
    {
     "name": "stdin",
     "output_type": "stream",
     "text": [
      "Math 84\n",
      "Physics 54\n",
      "English 32\n",
      "Programming 32\n",
      "Networking 21\n"
     ]
    },
    {
     "name": "stdout",
     "output_type": "stream",
     "text": [
      "Total Marks out of 500 are  223\n",
      "Oop's! Better luck Next time\n"
     ]
    }
   ],
   "source": [
    "subject = [\"Math\",\"Physics\",\"English\",\"Programming\",\"Networking\"]\n",
    "y=0\n",
    "print(\"Enter your Marks 0f the subjects out of 100 :\")\n",
    "for i in range (1,6,+1):\n",
    "     x = int(input(subject[i-1]))\n",
    "     y = x + y\n",
    "print(\"Total Marks out of 500 are \", y)\n",
    "if y > 450:\n",
    "    print(\"Congratulation's,You Have Secured 'A+' Grade\")\n",
    "elif 400<y<450:\n",
    "    print(\"Congratulation's,You Have Secured 'A' Grade\")\n",
    "elif 350<y<400:\n",
    "    print(\"Congratulation's,You Have Secured 'B+' Grade\")\n",
    "elif 300<y<350:\n",
    "    print(\"Congratulation's,You Have Secured 'B' Grade\")\n",
    "else :\n",
    "    print(\"Oop's! Better luck Next time\")"
   ]
  },
  {
   "cell_type": "code",
   "execution_count": null,
   "metadata": {},
   "outputs": [],
   "source": []
  }
 ],
 "metadata": {
  "kernelspec": {
   "display_name": "Python 3",
   "language": "python",
   "name": "python3"
  },
  "language_info": {
   "codemirror_mode": {
    "name": "ipython",
    "version": 3
   },
   "file_extension": ".py",
   "mimetype": "text/x-python",
   "name": "python",
   "nbconvert_exporter": "python",
   "pygments_lexer": "ipython3",
   "version": "3.7.4"
  }
 },
 "nbformat": 4,
 "nbformat_minor": 4
}
