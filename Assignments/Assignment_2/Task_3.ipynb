{
 "cells": [
  {
   "cell_type": "code",
   "execution_count": 14,
   "metadata": {},
   "outputs": [
    {
     "name": "stdin",
     "output_type": "stream",
     "text": [
      "press any key to enter value,press q to quit a\n",
      "Enter the number 13\n",
      "press any key to enter value,press q to quit a\n",
      "Enter the number 15\n",
      "press any key to enter value,press q to quit a\n",
      "Enter the number 19\n",
      "press any key to enter value,press q to quit a\n",
      "Enter the number 98\n",
      "press any key to enter value,press q to quit a\n",
      "Enter the number 51\n",
      "press any key to enter value,press q to quit q\n"
     ]
    },
    {
     "name": "stdout",
     "output_type": "stream",
     "text": [
      "[13, 15, 19, 98, 51]\n",
      "The length of the list is  5\n"
     ]
    }
   ],
   "source": [
    "list_a = []\n",
    "y = 0\n",
    "i=0\n",
    "x = \" \"\n",
    "while x != \"q\":\n",
    "    x = input(\"press any key to enter value,press q to quit\")\n",
    "    if x != \"q\":\n",
    "        i = int(input(\"Enter the number\"))\n",
    "        list_a.append(i)\n",
    "    elif x == \"q\":\n",
    "        break\n",
    "print(list_a)\n",
    "print(\"The length of the list is \",len(list_a))\n"
   ]
  },
  {
   "cell_type": "code",
   "execution_count": null,
   "metadata": {},
   "outputs": [],
   "source": []
  }
 ],
 "metadata": {
  "kernelspec": {
   "display_name": "Python 3",
   "language": "python",
   "name": "python3"
  },
  "language_info": {
   "codemirror_mode": {
    "name": "ipython",
    "version": 3
   },
   "file_extension": ".py",
   "mimetype": "text/x-python",
   "name": "python",
   "nbconvert_exporter": "python",
   "pygments_lexer": "ipython3",
   "version": "3.7.4"
  }
 },
 "nbformat": 4,
 "nbformat_minor": 4
}
