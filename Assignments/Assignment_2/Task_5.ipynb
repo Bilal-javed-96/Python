{
 "cells": [
  {
   "cell_type": "code",
   "execution_count": 1,
   "metadata": {},
   "outputs": [
    {
     "name": "stdin",
     "output_type": "stream",
     "text": [
      "press any key to enter value,press q to quit a\n",
      "Enter the number 13\n",
      "press any key to enter value,press q to quit a\n",
      "Enter the number 92\n",
      "press any key to enter value,press q to quit a\n",
      "Enter the number 51\n",
      "press any key to enter value,press q to quit a\n",
      "Enter the number 1015\n",
      "press any key to enter value,press q to quit a\n",
      "Enter the number 20\n",
      "press any key to enter value,press q to quit q\n"
     ]
    },
    {
     "name": "stdout",
     "output_type": "stream",
     "text": [
      "[13, 92, 51, 1015, 20]\n",
      "The Largest element of the list is  1015\n"
     ]
    }
   ],
   "source": [
    "list_a = []\n",
    "y = 0\n",
    "i=0\n",
    "x = \" \"\n",
    "while x != \"q\":\n",
    "    x = input(\"press any key to enter value,press q to quit\")\n",
    "    if x != \"q\":\n",
    "        i = int(input(\"Enter the number\"))\n",
    "        \n",
    "        if i > y:\n",
    "            y = i;\n",
    "        else:\n",
    "            y = y\n",
    "        list_a.append(i)\n",
    "    elif x == \"q\":\n",
    "        break\n",
    "print(list_a)\n",
    "print(\"The Largest element of the list is \",y)\n"
   ]
  },
  {
   "cell_type": "code",
   "execution_count": null,
   "metadata": {},
   "outputs": [],
   "source": []
  }
 ],
 "metadata": {
  "kernelspec": {
   "display_name": "Python 3",
   "language": "python",
   "name": "python3"
  },
  "language_info": {
   "codemirror_mode": {
    "name": "ipython",
    "version": 3
   },
   "file_extension": ".py",
   "mimetype": "text/x-python",
   "name": "python",
   "nbconvert_exporter": "python",
   "pygments_lexer": "ipython3",
   "version": "3.7.4"
  }
 },
 "nbformat": 4,
 "nbformat_minor": 4
}
