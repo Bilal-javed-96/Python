{
 "cells": [
  {
   "cell_type": "code",
   "execution_count": 3,
   "metadata": {},
   "outputs": [
    {
     "name": "stdin",
     "output_type": "stream",
     "text": [
      "press any key to enter value,press q to quit a\n",
      "Enter the number lm\n",
      "press any key to enter value,press q to quit a\n",
      "Enter the number 87\n",
      "press any key to enter value,press q to quit a\n",
      "Enter the number lj\n",
      "press any key to enter value,press q to quit a\n",
      "Enter the number lm\n",
      "press any key to enter value,press q to quit a\n",
      "Enter the number 87\n",
      "press any key to enter value,press q to quit q\n"
     ]
    },
    {
     "name": "stdout",
     "output_type": "stream",
     "text": [
      "['lm', '87', 'lj', 'lm', '87']\n",
      "Total number of digits in the list are 2\n",
      "{'lm': 2, '87': 2, 'lj': 1}\n",
      "Number of repeated elements are =  2\n",
      "Repeated elements are\n",
      "['lm', '87']\n"
     ]
    }
   ],
   "source": [
    "list_a = []\n",
    "i = 0\n",
    "count_1 = -1\n",
    "count=0\n",
    "total = 0\n",
    "dup = 0\n",
    "dup_list = []\n",
    "x = \" \"\n",
    "while x != \"q\":                                  #to take list from user\n",
    "    x = input(\"press any key to enter value,press q to quit\")\n",
    "    if x != \"q\":\n",
    "        count = input(\"Enter the number\")\n",
    "        list_a.append(count)\n",
    "        \n",
    "    elif x == \"q\":\n",
    "        break                                    # user input list is created\n",
    "for d in list_a:                                 # to calculate total number of digit not necessary for this particular task\n",
    "    if d.isdigit():\n",
    "        total +=1\n",
    "print(list_a)\n",
    "print(\"Total number of digits in the list are  ====  \",total)\n",
    "\n",
    "my_dict = {i:list_a.count(i) for i in list_a}    #to find the repeated number of element\n",
    "                                                 #creates a dictionary that contains repeated element as key\n",
    "                                                 #and no.of times repeeated as a value\n",
    "print(my_dict)               #this prints the dictionary containing repeated elements and the number of repetiotions                  \n",
    "\n",
    "for each_key,each_value in my_dict.items():      #this block is used to print the number of elements repeated and\n",
    "                                                #the elements name\n",
    "    if int(each_value) >1:\n",
    "        count_1 += 1\n",
    "        dup_list.append(each_key)               \n",
    "        dup +=1\n",
    "print(\"Number of repeated elements are   === \", dup)\n",
    "\n",
    "print(\"The elements repeated are   ===    \",dup_list)"
   ]
  },
  {
   "cell_type": "code",
   "execution_count": null,
   "metadata": {},
   "outputs": [],
   "source": []
  }
 ],
 "metadata": {
  "kernelspec": {
   "display_name": "Python 3",
   "language": "python",
   "name": "python3"
  },
  "language_info": {
   "codemirror_mode": {
    "name": "ipython",
    "version": 3
   },
   "file_extension": ".py",
   "mimetype": "text/x-python",
   "name": "python",
   "nbconvert_exporter": "python",
   "pygments_lexer": "ipython3",
   "version": "3.7.4"
  }
 },
 "nbformat": 4,
 "nbformat_minor": 4
}
