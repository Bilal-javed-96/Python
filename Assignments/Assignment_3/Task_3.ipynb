{
 "cells": [
  {
   "cell_type": "code",
   "execution_count": 8,
   "metadata": {},
   "outputs": [
    {
     "name": "stdin",
     "output_type": "stream",
     "text": [
      "Enter the name of the key qw\n",
      "Enter the value of the key ds\n",
      "Press any button to enter a new key,press q to exit a\n",
      "Enter the name of the key ew\n",
      "Enter the value of the key dsf\n",
      "Press any button to enter a new key,press q to exit q\n"
     ]
    },
    {
     "name": "stdout",
     "output_type": "stream",
     "text": [
      "The customer's key is ===  qw and its value ===  ds\n",
      "The customer's key is ===  ew and its value ===  dsf\n"
     ]
    }
   ],
   "source": [
    "sylani_dict = { }\n",
    "new_key = \" \"\n",
    "check = \" \"\n",
    "while check != \"q\":\n",
    "    if check != \"q\":\n",
    "        key_name = input(\"Enter the name of the key\")\n",
    "        key_value = input(\"Enter the value of the key\")\n",
    "        sylani_dict[key_name] = key_value\n",
    "        check = input(\"Press any button to enter a new key,press q to exit\")\n",
    "for each_key,each_value in sylani_dict.items(): \n",
    "    print(\"The customer's key  ===  \" + each_key + \" and its value ===  \" + each_value)"
   ]
  },
  {
   "cell_type": "code",
   "execution_count": null,
   "metadata": {},
   "outputs": [],
   "source": []
  }
 ],
 "metadata": {
  "kernelspec": {
   "display_name": "Python 3",
   "language": "python",
   "name": "python3"
  },
  "language_info": {
   "codemirror_mode": {
    "name": "ipython",
    "version": 3
   },
   "file_extension": ".py",
   "mimetype": "text/x-python",
   "name": "python",
   "nbconvert_exporter": "python",
   "pygments_lexer": "ipython3",
   "version": "3.7.4"
  }
 },
 "nbformat": 4,
 "nbformat_minor": 4
}
