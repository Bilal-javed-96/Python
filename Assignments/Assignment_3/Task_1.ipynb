{
 "cells": [
  {
   "cell_type": "code",
   "execution_count": 8,
   "metadata": {},
   "outputs": [
    {
     "name": "stdout",
     "output_type": "stream",
     "text": [
      "Enter the operator from the following list\n",
      "+\n",
      "-\n",
      "*\n",
      "/\n",
      "power\n"
     ]
    },
    {
     "name": "stdin",
     "output_type": "stream",
     "text": [
      "Enter the first number 6\n",
      "Enter the operator f\n",
      "Enter the second number 3\n"
     ]
    },
    {
     "name": "stdout",
     "output_type": "stream",
     "text": [
      "Invalid operator\n"
     ]
    }
   ],
   "source": [
    "print(\"Enter the operator from the following list\")\n",
    "print(\"+\")\n",
    "print(\"-\")\n",
    "print(\"*\")\n",
    "print(\"/\")\n",
    "print(\"power\")\n",
    "x = int(input(\"Enter the first number\"))\n",
    "operator = input(\"Enter the operator\")\n",
    "y = int(input(\"Enter the second number\"))\n",
    "if operator == '+':\n",
    "    print(\"sum of both numbers is \",(x+y))\n",
    "elif operator == '-':\n",
    "    print(\"difference of both numbers is \",(x-y))\n",
    "elif operator == '/':\n",
    "    print(\"Division of both numbers is \",(x/y))\n",
    "elif operator == '*':\n",
    "    print(\"Multiplication of both numbers is \",(x*y))\n",
    "elif operator == 'power':\n",
    "    print(\"X raise to the power Y is \",(x**y))\n",
    "else:\n",
    "    print(\"Invalid operator\")"
   ]
  },
  {
   "cell_type": "code",
   "execution_count": null,
   "metadata": {},
   "outputs": [],
   "source": []
  }
 ],
 "metadata": {
  "kernelspec": {
   "display_name": "Python 3",
   "language": "python",
   "name": "python3"
  },
  "language_info": {
   "codemirror_mode": {
    "name": "ipython",
    "version": 3
   },
   "file_extension": ".py",
   "mimetype": "text/x-python",
   "name": "python",
   "nbconvert_exporter": "python",
   "pygments_lexer": "ipython3",
   "version": "3.7.4"
  }
 },
 "nbformat": 4,
 "nbformat_minor": 4
}
