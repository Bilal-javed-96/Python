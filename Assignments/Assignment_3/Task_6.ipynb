{
 "cells": [
  {
   "cell_type": "code",
   "execution_count": 15,
   "metadata": {},
   "outputs": [
    {
     "name": "stdin",
     "output_type": "stream",
     "text": [
      "Enter the key to search agge\n"
     ]
    },
    {
     "name": "stdout",
     "output_type": "stream",
     "text": [
      "Key not Present\n"
     ]
    }
   ],
   "source": [
    "x1 = \" \"\n",
    "dictionary = {\n",
    "    \"Name\" : \"M.Bilal\",\n",
    "    \"F_name\" : \"Javed\",\n",
    "    \"Age\" : 20 ,\n",
    "    \"Height\" : 188,\n",
    "    \"Address\" : \"karachi\"\n",
    "}\n",
    "x = input(\"Enter the key to search\")\n",
    "for each_key in dictionary.keys():\n",
    "    if each_key == x:\n",
    "        x1 = each_key\n",
    "        break\n",
    "if x1 != \" \":\n",
    "    print(\"Key is present\")\n",
    "else:\n",
    "    print(\"Key not Present\")\n",
    "        \n",
    "        "
   ]
  },
  {
   "cell_type": "code",
   "execution_count": null,
   "metadata": {},
   "outputs": [],
   "source": []
  }
 ],
 "metadata": {
  "kernelspec": {
   "display_name": "Python 3",
   "language": "python",
   "name": "python3"
  },
  "language_info": {
   "codemirror_mode": {
    "name": "ipython",
    "version": 3
   },
   "file_extension": ".py",
   "mimetype": "text/x-python",
   "name": "python",
   "nbconvert_exporter": "python",
   "pygments_lexer": "ipython3",
   "version": "3.7.4"
  }
 },
 "nbformat": 4,
 "nbformat_minor": 4
}
