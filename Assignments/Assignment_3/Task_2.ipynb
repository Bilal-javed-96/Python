{
 "cells": [
  {
   "cell_type": "code",
   "execution_count": 2,
   "metadata": {},
   "outputs": [
    {
     "name": "stdin",
     "output_type": "stream",
     "text": [
      "press any key to enter value,press q to quit a\n",
      "Enter the number 65\n",
      "press any key to enter value,press q to quit a\n",
      "Enter the number lk\n",
      "press any key to enter value,press q to quit 84\n",
      "Enter the number a\n",
      "press any key to enter value,press q to quit a\n",
      "Enter the number 32\n",
      "press any key to enter value,press q to quit a\n",
      "Enter the number kj\n",
      "press any key to enter value,press q to quit a\n",
      "Enter the number 1\n",
      "press any key to enter value,press q to quit a\n",
      "Enter the number jhjj\n",
      "press any key to enter value,press q to quit q\n"
     ]
    },
    {
     "name": "stdout",
     "output_type": "stream",
     "text": [
      "['65', 'lk', 'a', '32', 'kj', '1', 'jhjj']\n",
      "Total number of digits in the list are 3\n"
     ]
    }
   ],
   "source": [
    "list_a = []\n",
    "y = -1\n",
    "i=0\n",
    "total = 0\n",
    "x = \" \"\n",
    "while x != \"q\":\n",
    "    x = input(\"press any key to enter value,press q to quit\")\n",
    "    if x != \"q\":\n",
    "        i = input(\"Enter the number\")\n",
    "        list_a.append(i)\n",
    "        y +=1\n",
    "    elif x == \"q\":\n",
    "        break\n",
    "for d in list_a:\n",
    "    if d.isdigit():\n",
    "        total +=1\n",
    "print(list_a)\n",
    "print(\"Total number of digits in the list are\",total)"
   ]
  },
  {
   "cell_type": "code",
   "execution_count": null,
   "metadata": {},
   "outputs": [],
   "source": []
  }
 ],
 "metadata": {
  "kernelspec": {
   "display_name": "Python 3",
   "language": "python",
   "name": "python3"
  },
  "language_info": {
   "codemirror_mode": {
    "name": "ipython",
    "version": 3
   },
   "file_extension": ".py",
   "mimetype": "text/x-python",
   "name": "python",
   "nbconvert_exporter": "python",
   "pygments_lexer": "ipython3",
   "version": "3.7.4"
  }
 },
 "nbformat": 4,
 "nbformat_minor": 4
}
