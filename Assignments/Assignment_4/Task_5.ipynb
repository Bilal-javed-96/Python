{
 "cells": [
  {
   "cell_type": "code",
   "execution_count": 3,
   "metadata": {},
   "outputs": [
    {
     "name": "stdin",
     "output_type": "stream",
     "text": [
      "guess the number between 1 and 30 21\n"
     ]
    },
    {
     "name": "stdout",
     "output_type": "stream",
     "text": [
      "you guess the wrong number,number is less than 21\n"
     ]
    },
    {
     "name": "stdin",
     "output_type": "stream",
     "text": [
      "guess the number between 1 and 30 15\n"
     ]
    },
    {
     "name": "stdout",
     "output_type": "stream",
     "text": [
      "you guess the wrong number,number is less than 15\n"
     ]
    },
    {
     "name": "stdin",
     "output_type": "stream",
     "text": [
      "guess the number between 1 and 30 10\n"
     ]
    },
    {
     "name": "stdout",
     "output_type": "stream",
     "text": [
      "you guess the wrong number,number is less than 10\n",
      "Better luck next time\n"
     ]
    }
   ],
   "source": [
    "import random\n",
    "x = 0\n",
    "guess = random.randint(1,31)\n",
    "for i in range (3):\n",
    "    \n",
    "    x +=1\n",
    "    num = int(input(\"guess the number between 1 and 30\"))\n",
    "    if num == guess:\n",
    "        print(\"you guess the right number\")\n",
    "        break\n",
    "    elif num > guess:\n",
    "        print(\"you guess the wrong number,number is less than \" + str(num) )\n",
    "    elif num < guess:\n",
    "        print(\"you guess the wrong number,number is greater than \" + str(num) )\n",
    "if x == 3 :\n",
    "    print(\"Better luck next time\")"
   ]
  },
  {
   "cell_type": "code",
   "execution_count": null,
   "metadata": {},
   "outputs": [],
   "source": []
  }
 ],
 "metadata": {
  "kernelspec": {
   "display_name": "Python 3",
   "language": "python",
   "name": "python3"
  },
  "language_info": {
   "codemirror_mode": {
    "name": "ipython",
    "version": 3
   },
   "file_extension": ".py",
   "mimetype": "text/x-python",
   "name": "python",
   "nbconvert_exporter": "python",
   "pygments_lexer": "ipython3",
   "version": "3.7.4"
  }
 },
 "nbformat": 4,
 "nbformat_minor": 4
}
