{
 "cells": [
  {
   "cell_type": "code",
   "execution_count": 5,
   "metadata": {},
   "outputs": [
    {
     "name": "stdout",
     "output_type": "stream",
     "text": [
      "{'f_name': 'Ali', 'l_name': 'Kazmi', 'age': '24', 'city': 'Karachi'}\n",
      "{'f_name': 'Ali', 'l_name': 'Kazmi', 'age': '24', 'city': 'Karachi', 'qualification': 'high academic level'}\n",
      "{'f_name': 'Ali', 'l_name': 'Kazmi', 'age': '24', 'city': 'Karachi'}\n"
     ]
    }
   ],
   "source": [
    "person = {\n",
    "    \"f_name\" : \"Ali\",\n",
    "    \"l_name\" : \"Kazmi\",\n",
    "    \"age\" : \"24\",\n",
    "    \"city\" : \"Karachi\"\n",
    "}\n",
    "print(person)\n",
    "person[\"qualification\"] = \"high academic level\"\n",
    "print(person)\n",
    "del person[\"qualification\"]\n",
    "print(person)"
   ]
  },
  {
   "cell_type": "code",
   "execution_count": null,
   "metadata": {},
   "outputs": [],
   "source": []
  }
 ],
 "metadata": {
  "kernelspec": {
   "display_name": "Python 3",
   "language": "python",
   "name": "python3"
  },
  "language_info": {
   "codemirror_mode": {
    "name": "ipython",
    "version": 3
   },
   "file_extension": ".py",
   "mimetype": "text/x-python",
   "name": "python",
   "nbconvert_exporter": "python",
   "pygments_lexer": "ipython3",
   "version": "3.7.4"
  }
 },
 "nbformat": 4,
 "nbformat_minor": 4
}
