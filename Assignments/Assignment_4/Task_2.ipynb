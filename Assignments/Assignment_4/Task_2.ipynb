{
 "cells": [
  {
   "cell_type": "code",
   "execution_count": 5,
   "metadata": {},
   "outputs": [
    {
     "name": "stdout",
     "output_type": "stream",
     "text": [
      "{'sydney': {'Country': 'australia', 'population': '5.23 million', 'fact': 'capital of australia'}, 'montreal': {'Country': 'canada', 'population': '1.78 million', 'fact': 'capital of quebec'}, 'berlin': {'Country': 'germany', 'population': '3.784 million', 'fact': 'technology hub'}}\n"
     ]
    }
   ],
   "source": [
    "cities = {\n",
    "    \"sydney\" :\n",
    "    {\n",
    "        \"Country\" : \"australia\",\n",
    "        \"population\" : \"5.23 million\",\n",
    "        \"fact\" : \"capital of australia\"\n",
    "    },\n",
    "    \"montreal\" :\n",
    "    {\n",
    "        \"Country\" : \"canada\",\n",
    "        \"population\" : \"1.78 million\",\n",
    "        \"fact\" : \"capital of quebec\"\n",
    "    },\n",
    "    \"berlin\" :\n",
    "    {\n",
    "        \"Country\" : \"germany\",\n",
    "        \"population\" : \"3.784 million\",\n",
    "        \"fact\" : \"technology hub\"\n",
    "    }\n",
    "\n",
    "}\n",
    "print(cities)"
   ]
  },
  {
   "cell_type": "code",
   "execution_count": null,
   "metadata": {},
   "outputs": [],
   "source": []
  }
 ],
 "metadata": {
  "kernelspec": {
   "display_name": "Python 3",
   "language": "python",
   "name": "python3"
  },
  "language_info": {
   "codemirror_mode": {
    "name": "ipython",
    "version": 3
   },
   "file_extension": ".py",
   "mimetype": "text/x-python",
   "name": "python",
   "nbconvert_exporter": "python",
   "pygments_lexer": "ipython3",
   "version": "3.7.4"
  }
 },
 "nbformat": 4,
 "nbformat_minor": 4
}
