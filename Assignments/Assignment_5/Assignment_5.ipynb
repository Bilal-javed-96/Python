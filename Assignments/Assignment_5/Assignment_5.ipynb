{
 "cells": [
  {
   "cell_type": "code",
   "execution_count": 9,
   "metadata": {},
   "outputs": [
    {
     "name": "stdin",
     "output_type": "stream",
     "text": [
      "Enter the number to calculate factorial 7\n"
     ]
    },
    {
     "name": "stdout",
     "output_type": "stream",
     "text": [
      "Factorial :  5040\n"
     ]
    }
   ],
   "source": [
    "#Task 1\n",
    "#Factorial\n",
    "\n",
    "def factorial(num):\n",
    "    if num == 0:\n",
    "        print(\"factorial : 1\")\n",
    "    elif num < 0:\n",
    "        print(\"Factorial not possible for negative numbers\")\n",
    "    else:\n",
    "        factorial = 1\n",
    "        for i in range (1,num + 1):\n",
    "            factorial = factorial * i\n",
    "        print(\"Factorial : \",factorial)\n",
    "\n",
    "\n",
    "num = int(input(\"Enter the number to calculate factorial\"))\n",
    "factorial(num)"
   ]
  },
  {
   "cell_type": "code",
   "execution_count": 10,
   "metadata": {},
   "outputs": [
    {
     "name": "stdin",
     "output_type": "stream",
     "text": [
      "enter string BilalJaved\n"
     ]
    },
    {
     "name": "stdout",
     "output_type": "stream",
     "text": [
      "No. of Upper case characters : 2,No. of Lower case characters : 8\n"
     ]
    }
   ],
   "source": [
    "#Task 2\n",
    "#Upper and Lower Case letter\n",
    "\n",
    "def up_low(s):      \n",
    "    u = sum(1 for i in s if i.isupper())\n",
    "    l = sum(1 for i in s if i.islower())\n",
    "    print( \"No. of Upper case characters : %s,No. of Lower case characters : %s\" % (u,l))\n",
    "s = input(\"enter string\")\n",
    "up_low(s)"
   ]
  },
  {
   "cell_type": "code",
   "execution_count": 11,
   "metadata": {},
   "outputs": [
    {
     "name": "stdout",
     "output_type": "stream",
     "text": [
      "3\n"
     ]
    }
   ],
   "source": [
    "#Task 3\n",
    "#Search Even number\n",
    "\n",
    "def even(list_n):\n",
    "    ev = 0\n",
    "    for i in list_n:\n",
    "        if i%2 == 0 :\n",
    "            ev +=1\n",
    "    print(ev)\n",
    "list_n = [25 , 38 , 45 , 64 , 87 ,98]\n",
    "even(list_n)\n"
   ]
  },
  {
   "cell_type": "code",
   "execution_count": 13,
   "metadata": {},
   "outputs": [
    {
     "name": "stdin",
     "output_type": "stream",
     "text": [
      "Enter the string to flip reviver\n"
     ]
    },
    {
     "name": "stdout",
     "output_type": "stream",
     "text": [
      "text is plaindrome\n"
     ]
    }
   ],
   "source": [
    "#Task 4\n",
    "#Plaindrome\n",
    "\n",
    "def plain_drome(x):\n",
    "    st = x[::-1]\n",
    "    if st == x:\n",
    "        print(\"text is plaindrome\")\n",
    "    else:\n",
    "        print(\"text is not plaindrome\")\n",
    "\n",
    "st = input(\"Enter the string to flip\")\n",
    "plain_drome(st)"
   ]
  },
  {
   "cell_type": "code",
   "execution_count": 14,
   "metadata": {},
   "outputs": [
    {
     "name": "stdin",
     "output_type": "stream",
     "text": [
      "Enter the number 13\n"
     ]
    },
    {
     "name": "stdout",
     "output_type": "stream",
     "text": [
      "Numer is a prime\n"
     ]
    }
   ],
   "source": [
    "#Task 5\n",
    "# Prime Number\n",
    "\n",
    "def prime(num):\n",
    "    for i in range(2,num):\n",
    "        if num%i == 0:\n",
    "            print(\"Number is not a prime number\")\n",
    "            break\n",
    "            \n",
    "    else:\n",
    "        print(\"Numer is a prime\")\n",
    "x = int(input(\"Enter the number\"))\n",
    "prime(x)"
   ]
  },
  {
   "cell_type": "code",
   "execution_count": 15,
   "metadata": {},
   "outputs": [
    {
     "name": "stdout",
     "output_type": "stream",
     "text": [
      "tomato\n",
      "onion\n",
      "jam\n",
      "tea\n"
     ]
    }
   ],
   "source": [
    "#Task 6\n",
    "\n",
    "def sh_ls(*items):\n",
    "    for item in items:\n",
    "        print(item)\n",
    "\n",
    "sh_ls(\"tomato\" , \"onion\" , \"jam\" , \"tea\")\n",
    "    "
   ]
  },
  {
   "cell_type": "code",
   "execution_count": null,
   "metadata": {},
   "outputs": [],
   "source": []
  }
 ],
 "metadata": {
  "kernelspec": {
   "display_name": "Python 3",
   "language": "python",
   "name": "python3"
  },
  "language_info": {
   "codemirror_mode": {
    "name": "ipython",
    "version": 3
   },
   "file_extension": ".py",
   "mimetype": "text/x-python",
   "name": "python",
   "nbconvert_exporter": "python",
   "pygments_lexer": "ipython3",
   "version": "3.7.4"
  }
 },
 "nbformat": 4,
 "nbformat_minor": 4
}
